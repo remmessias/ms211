{
 "cells": [
  {
   "cell_type": "markdown",
   "metadata": {},
   "source": [
    "Nome: Rebecca Moreira Messias RA: 186416 Turma: Y"
   ]
  },
  {
   "cell_type": "markdown",
   "metadata": {},
   "source": [
    "# Parte Computacional"
   ]
  },
  {
   "cell_type": "markdown",
   "metadata": {},
   "source": [
    "Importações:"
   ]
  },
  {
   "cell_type": "code",
   "execution_count": 1,
   "metadata": {},
   "outputs": [],
   "source": [
    "import math"
   ]
  },
  {
   "cell_type": "markdown",
   "metadata": {},
   "source": [
    "## Item a"
   ]
  },
  {
   "cell_type": "code",
   "execution_count": 2,
   "metadata": {},
   "outputs": [],
   "source": [
    "def metodoTrapezios():\n",
    "    f = input(\"f(x) = \")\n",
    "    x0 = float(input(\"Limite inferior: \"))\n",
    "    xM = float(input(\"Limite superior: \"))\n",
    "    h = float(input(\"Passo (h): \"))\n",
    "    integral = 0\n",
    "    x = x0\n",
    "    integral += eval(f)\n",
    "    x += h\n",
    "    \n",
    "    while x < xM:\n",
    "        integral += 2 * eval(f)\n",
    "        x += h\n",
    "    x = xM\n",
    "    integral += eval(f)\n",
    "    integral *= (h/2)\n",
    "    print(\"Integral = \", integral)"
   ]
  },
  {
   "cell_type": "markdown",
   "metadata": {},
   "source": [
    "## Item b"
   ]
  },
  {
   "cell_type": "code",
   "execution_count": 3,
   "metadata": {},
   "outputs": [],
   "source": [
    "def metodoSimpson():\n",
    "    f = input(\"f(x) = \")\n",
    "    x0 = float(input(\"Limite inferior: \"))\n",
    "    xM = float(input(\"Limite superior: \"))\n",
    "    h = float(input(\"Passo (h): \"))\n",
    "    integral = 0\n",
    "    x = x0\n",
    "    integral += eval(f)\n",
    "    x+= h\n",
    "    indice = 1\n",
    "    \n",
    "    while x < xM:\n",
    "        if indice%2 != 0:\n",
    "            integral += 4*eval(f)\n",
    "        else:\n",
    "            integral += 2*eval(f)\n",
    "        indice += 1\n",
    "        x += h\n",
    "    x = xM\n",
    "    integral += eval(f)\n",
    "    integral *= (h/3)\n",
    "    print(\"Integral = \", integral)"
   ]
  },
  {
   "cell_type": "markdown",
   "metadata": {},
   "source": [
    "## Item c"
   ]
  },
  {
   "cell_type": "markdown",
   "metadata": {},
   "source": [
    "O enunciado pede para que o erro seja menor que 0.0001, logo será necessário que o Método dos Trapézios seja aplicado algumas vezes. Ao aplicar o método 100 vezes encontramos um valor para o erro menor que 0.0001. Dessa forma, obtemos o seguinte valor para a integral:"
   ]
  },
  {
   "cell_type": "code",
   "execution_count": 4,
   "metadata": {},
   "outputs": [
    {
     "name": "stdout",
     "output_type": "stream",
     "text": [
      "f(x) = math.exp(-x**2)\n",
      "Limite inferior: -1\n",
      "Limite superior: 1\n",
      "Passo (h): 0.02\n",
      "Integral =  1.4935992143787018\n"
     ]
    }
   ],
   "source": [
    "metodoTrapezios()"
   ]
  },
  {
   "cell_type": "markdown",
   "metadata": {},
   "source": [
    "Logo o erf(1) para a regra dos Trapézios é:"
   ]
  },
  {
   "cell_type": "code",
   "execution_count": 5,
   "metadata": {},
   "outputs": [
    {
     "data": {
      "text/plain": [
       "0.8426731187475757"
      ]
     },
     "execution_count": 5,
     "metadata": {},
     "output_type": "execute_result"
    }
   ],
   "source": [
    "1/math.sqrt(math.pi) * 1.4935992143787018"
   ]
  },
  {
   "cell_type": "markdown",
   "metadata": {},
   "source": [
    "Repetindo o método 100 vezes com um passo de 0,02 temos que o valor do erro será: 0,00004905059216"
   ]
  },
  {
   "cell_type": "markdown",
   "metadata": {},
   "source": [
    "Agora, resolvendo pela Regra de Simpson podemos reduzir nosso passo bastante. E o valor que encontraremos para a integral será:"
   ]
  },
  {
   "cell_type": "code",
   "execution_count": 6,
   "metadata": {},
   "outputs": [
    {
     "name": "stdout",
     "output_type": "stream",
     "text": [
      "f(x) = math.exp(-x**2)\n",
      "Limite inferior: -1\n",
      "Limite superior: 1\n",
      "Passo (h): 0.2\n",
      "Integral =  1.4936741098206923\n"
     ]
    }
   ],
   "source": [
    "metodoSimpson()"
   ]
  },
  {
   "cell_type": "markdown",
   "metadata": {},
   "source": [
    "Logo o erf(1) para a Regra de Simpson é:"
   ]
  },
  {
   "cell_type": "code",
   "execution_count": 7,
   "metadata": {},
   "outputs": [
    {
     "data": {
      "text/plain": [
       "0.842715373975802"
      ]
     },
     "execution_count": 7,
     "metadata": {},
     "output_type": "execute_result"
    }
   ],
   "source": [
    "1/math.sqrt(math.pi) * 1.4936741098206923"
   ]
  },
  {
   "cell_type": "markdown",
   "metadata": {},
   "source": [
    "Dessa forma encontramos um valor ainda mais próximo com o valor real e o erro será: -0,0001308015791"
   ]
  }
 ],
 "metadata": {
  "kernelspec": {
   "display_name": "Python 3",
   "language": "python",
   "name": "python3"
  },
  "language_info": {
   "codemirror_mode": {
    "name": "ipython",
    "version": 3
   },
   "file_extension": ".py",
   "mimetype": "text/x-python",
   "name": "python",
   "nbconvert_exporter": "python",
   "pygments_lexer": "ipython3",
   "version": "3.7.8"
  }
 },
 "nbformat": 4,
 "nbformat_minor": 4
}
