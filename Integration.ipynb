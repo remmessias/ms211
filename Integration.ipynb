{
 "cells": [
  {
   "cell_type": "markdown",
   "metadata": {},
   "source": [
    "Nome: Rebecca Moreira Messias RA: 186416 Turma: Y"
   ]
  },
  {
   "cell_type": "markdown",
   "metadata": {},
   "source": [
    "# Parte Computacional"
   ]
  },
  {
   "cell_type": "markdown",
   "metadata": {},
   "source": [
    "Instalações:"
   ]
  },
  {
   "cell_type": "code",
   "execution_count": null,
   "metadata": {},
   "outputs": [],
   "source": []
  },
  {
   "cell_type": "markdown",
   "metadata": {},
   "source": [
    "Importações:"
   ]
  },
  {
   "cell_type": "code",
   "execution_count": 1,
   "metadata": {},
   "outputs": [],
   "source": [
    "import math"
   ]
  },
  {
   "cell_type": "markdown",
   "metadata": {},
   "source": [
    "## Item a"
   ]
  },
  {
   "cell_type": "code",
   "execution_count": 3,
   "metadata": {},
   "outputs": [],
   "source": [
    "def metodoTrapezios():\n",
    "    f = input(\"f(x) = \")\n",
    "    x0 = float(input(\"Limite inferior: \"))\n",
    "    xM = float(input(\"Limite superior: \"))\n",
    "    h = float(input(\"Passo (h): \"))\n",
    "    integral = 0\n",
    "    x = x0\n",
    "    integral += eval(f)\n",
    "    x += h\n",
    "    \n",
    "    while x < xM:\n",
    "        integral += 2 * eval(f)\n",
    "        x += h\n",
    "    x = xM\n",
    "    integral += eval(f)\n",
    "    integral *= (h/2)\n",
    "    print(\"Integral = \", integral)"
   ]
  },
  {
   "cell_type": "markdown",
   "metadata": {},
   "source": [
    "## Item b"
   ]
  },
  {
   "cell_type": "code",
   "execution_count": 4,
   "metadata": {},
   "outputs": [],
   "source": [
    "def metodoSimpson():\n",
    "    f = input(\"f(x) = \")\n",
    "    x0 = float(input(\"Limite inferior: \"))\n",
    "    xM = float(input(\"Limite superior: \"))\n",
    "    h = float(input(\"Passo (h): \"))\n",
    "    integral = 0\n",
    "    x = x0\n",
    "    integral += eval(f)\n",
    "    x+= h\n",
    "    indice = 1\n",
    "    \n",
    "    while x < xM:\n",
    "        if indice%2 != 0:\n",
    "            integral += 4*eval(f)\n",
    "        else:\n",
    "            integral += 2*eval(f)\n",
    "        indice += 1\n",
    "        x += h\n",
    "    x = xM\n",
    "    integral += eval(f)\n",
    "    integral *= (h/3)\n",
    "    print(\"Integral = \", integral)"
   ]
  },
  {
   "cell_type": "markdown",
   "metadata": {},
   "source": [
    "## Item c"
   ]
  },
  {
   "cell_type": "code",
   "execution_count": null,
   "metadata": {},
   "outputs": [],
   "source": []
  }
 ],
 "metadata": {
  "kernelspec": {
   "display_name": "Python 3",
   "language": "python",
   "name": "python3"
  },
  "language_info": {
   "codemirror_mode": {
    "name": "ipython",
    "version": 3
   },
   "file_extension": ".py",
   "mimetype": "text/x-python",
   "name": "python",
   "nbconvert_exporter": "python",
   "pygments_lexer": "ipython3",
   "version": "3.7.8"
  }
 },
 "nbformat": 4,
 "nbformat_minor": 4
}
